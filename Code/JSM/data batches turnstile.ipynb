{
 "cells": [
  {
   "cell_type": "markdown",
   "metadata": {},
   "source": [
    "# Creación de _data batchs_"
   ]
  },
  {
   "cell_type": "markdown",
   "metadata": {},
   "source": [
    "Este notebook hace lo siguiente:\n",
    "- Carga el csv de 42 Gbs\n",
    "- Se construye una columna adicional llamada _fecha_ que consiste de la _fecha_completa_ en formato datetime.\n",
    "- De la nueva columna _fecha_ se extrae el mes y el año y se concatena en una nueva variable llamada _database_.\n",
    "- Se escriben los datos originales para cada valor único de _database_ en pickles llamados __mes-año.pkl__, en compresión gzip.\n",
    "\n",
    "Este programa corrió en un computador con RAM de 16GBs, disco sólido y procesador de i7 séptima generación."
   ]
  },
  {
   "cell_type": "code",
   "execution_count": 1,
   "metadata": {},
   "outputs": [],
   "source": [
    "import pandas as pd # importo el paquete pandas"
   ]
  },
  {
   "cell_type": "code",
   "execution_count": 3,
   "metadata": {},
   "outputs": [
    {
     "name": "stdout",
     "output_type": "stream",
     "text": [
      "Wall time: 16min 1s\n"
     ]
    }
   ],
   "source": [
    "%%time\n",
    "data=pd.read_csv('Accesos_P2000.csv', sep=';') # Cargo la base completa"
   ]
  },
  {
   "cell_type": "code",
   "execution_count": 5,
   "metadata": {},
   "outputs": [
    {
     "name": "stdout",
     "output_type": "stream",
     "text": [
      "January-2017\n",
      "March-2016\n",
      "February-2017\n",
      "May-2017\n",
      "January-2016\n",
      "February-2016\n",
      "March-2017\n",
      "April-2017\n",
      "August-2016\n",
      "October-2016\n",
      "September-2016\n",
      "December-2017\n",
      "November-2017\n",
      "June-2016\n",
      "November-2016\n",
      "July-2016\n",
      "June-2017\n",
      "April-2016\n",
      "September-2017\n",
      "May-2016\n",
      "December-2016\n",
      "July-2017\n",
      "August-2017\n",
      "October-2017\n",
      "January-2018\n",
      "February-2018\n",
      "March-2018\n",
      "April-2018\n",
      "May-2018\n",
      "July-2018\n",
      "August-2018\n",
      "June-2018\n",
      "October-2018\n",
      "November-2018\n",
      "January-2019\n",
      "September-2018\n",
      "December-2018\n",
      "May-2019\n",
      "August-2019\n",
      "February-2019\n",
      "March-2019\n",
      "September-2019\n",
      "October-2019\n",
      "November-2019\n",
      "April-2019\n",
      "June-2019\n",
      "July-2019\n"
     ]
    }
   ],
   "source": [
    "data['fecha']=pd.to_datetime(data.fecha_completa, format='%Y.%m.%d') # Paso a formato fecha\n",
    "data['database']=data.fecha.dt.month_name().map(str) + '-' + data.fecha.dt.year.map(str) # C\n",
    "# Se hace un loop para cada valor mes-año\n",
    "for i in data.database.unique():\n",
    "    name_database='bases/'+ i +'.pkl' # Construyo el nombre del archivo\n",
    "    data.loc[data.database==i, :].to_pickle(name_database, 'gzip') # Selecciono el pedazo de la base y la escribo en la ruta construida\n",
    "    print(i) # imprimo para ver la última base escrita"
   ]
  },
  {
   "cell_type": "markdown",
   "metadata": {},
   "source": [
    "## Lectura en R de las bases de datos\n",
    "`library(reticulate)` # No olvidar instalar el paquete antes\n",
    "\n",
    "`pd=import('pandas')`  # Lo que hace esto es importar el paquete de pandas (que maneja los dataframes en python) en R\n",
    "\n",
    "`data=pd$read_pickle('May-2019.pkl', compression = 'gzip')` # Se lee el pickle, se necesita la ruta de la base y el sistema de compresión que yo utilicé, que es gzip"
   ]
  },
  {
   "cell_type": "code",
   "execution_count": null,
   "metadata": {},
   "outputs": [],
   "source": []
  }
 ],
 "metadata": {
  "kernelspec": {
   "display_name": "Python 3",
   "language": "python",
   "name": "python3"
  },
  "language_info": {
   "codemirror_mode": {
    "name": "ipython",
    "version": 3
   },
   "file_extension": ".py",
   "mimetype": "text/x-python",
   "name": "python",
   "nbconvert_exporter": "python",
   "pygments_lexer": "ipython3",
   "version": "3.6.7"
  }
 },
 "nbformat": 4,
 "nbformat_minor": 4
}
